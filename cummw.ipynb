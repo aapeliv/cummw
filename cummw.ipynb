{
 "cells": [
  {
   "cell_type": "markdown",
   "metadata": {},
   "source": [
    "# CUMMW Workshop (OR 2): Agent-Based Modeling\n",
    "\n",
    "by Aapeli Vuorinen (<https://aapelivuorinen.com>). IEOR, Columbia University.\n",
    "\n",
    "## Materials available at: <https://aap.li/cummw>"
   ]
  },
  {
   "cell_type": "markdown",
   "metadata": {},
   "source": [
    "## Introduction\n",
    "\n",
    "**Agent-based modeling** is a framework for modeling complex systems that focuses on **agents**, their individual behaviour, and the interactions between agents.\n",
    "\n",
    "This allows us to study the structure of potentially **very complicated systems** without necessarily needing to be able to compute answers analytically or even write down the full system.\n",
    "\n",
    "<!--In this workshop, we will look at an agent-based model of virus spread, applied to the wider Columbia University community.-->\n",
    "\n",
    "<!--The session is loosely related to the session by Prof Ton Dieker on discrete event simulation in that we will compare and discuss the strengths and shortcomings of the two modeling approaches.-->"
   ]
  },
  {
   "cell_type": "markdown",
   "metadata": {},
   "source": [
    "## What is agent-based modeling?\n",
    "\n",
    "Agent-based modeling works by building **simple, autonomous agents** that interact with each other over time. This allows us to build sophisticated models, simulate them, and then study the macro-scale, emergent behavior of large populations of agents. We can then modify the model and perform analyses to study how different rules or agent-level decisions change the outcome of the simulation.\n",
    "\n",
    "Here's a classical example used to study segregation: <https://ncase.me/polygons/>. You saw a bunch of examples last time in Ton's slides, a lot of the 3D examples were agent-based mdoels. Even computer games can be thought of as agent-based models!\n",
    "\n",
    "The power of these models is in their simplicity and ease of implementation, as well as the huge variety of different scenarios that can be studied. However, these come with some drawbacks that we'll discuss throughout the workshop, such as their computational complexity meaning we have to make various tradeoffs while modeling."
   ]
  },
  {
   "cell_type": "markdown",
   "metadata": {},
   "source": [
    "# A model for COVID-19 at Columbia\n",
    "\n",
    "## The simulation workflow\n",
    "\n",
    "An important part of ABM (and any modeling regime) is the actual modeling part. We have to choose the right things to include in the model to make it accurate enough while keeping it computationally tractable. Once a realistic model is built, we can move to **control** by studying how controlling different parameters of the model might influence the outcome. For example, we might try out different rules to limit virus spread, such as reducing the number of students that go to class.\n",
    "\n",
    "We'll now construct a simple model of COVID-19 and play around with it a bit so you get a feel for how it works.\n",
    "\n",
    "## The model\n",
    "\n",
    "To illustrate the point of ABM, we will start with a very basic model. Often when modeling, we first make a simple model and then iterate on it. This is an important part of modeling.\n",
    "\n",
    "We will model students as the agents that interact with the campus environment, composed of classrooms and apartments. Agents move between classrooms (randomly) and apartments (initial random allocation, but then fixed). Disease spread is random through the population.\n",
    "\n",
    "### Agents (students)\n",
    "\n",
    "* There are $N$ students going to campus\n",
    "* Students live in one of $M$ apartment buildings, each apartment has $B$ bedrooms, and students are allocated randomly into these rooms\n",
    "* Every weekday (Mon-Fri), students go to one of $K$ (randomly assigned) classes and then back home\n",
    "* If a student gets infected on a given day, they become infectious at the start of the same day, then remain infectious for a randomly chosen amount of time between 7-10 days\n",
    "\n",
    "### Interactions between students\n",
    "\n",
    "* During each day in class, the students have a probability $q$ of getting infected with COVID independently for each student in the same class that is at the time infectious\n",
    "* During each evening/night, the students have a probability $p$ of getting infected with COVID independently for each infectious housemate\n",
    "\n",
    "So for example if four students, $A$, $B$, $C$, and $D$ live together in an apartment, with $B$ and $C$ currently infectious, then each evening, student $A$ has probability $p$ of getting infected by $B$, and an independent probability $p$ of getting infected by $C$. Therefore the probability of $A$ getting infected by either $B$ or $C$ (or both) is $p(1-p)+(1-p)p+p^2$. Similarly $D$ has the same probability of being infected each evening.\n",
    "\n",
    "If a student gets infected during the day, they only become infectious at the start of the next day.\n",
    "\n",
    "**Questions**:\n",
    "\n",
    "* Is this a good model?\n",
    "* What assumptions have we made?\n",
    "* How should we pick the parameters? (Of course things like $N$ can be chosen from data we have, but what about $p$ and $q$?)"
   ]
  },
  {
   "cell_type": "markdown",
   "metadata": {},
   "source": [
    "### Imports"
   ]
  },
  {
   "cell_type": "code",
   "execution_count": null,
   "metadata": {},
   "outputs": [],
   "source": [
    "# randomization functions\n",
    "from random import uniform, choice, shuffle\n",
    "\n",
    "# an enumeration, a set of named things\n",
    "from enum import Enum\n",
    "\n",
    "# numpy is a numerical computation library for python\n",
    "import numpy as np"
   ]
  },
  {
   "cell_type": "markdown",
   "metadata": {},
   "source": [
    "### Helper function"
   ]
  },
  {
   "cell_type": "code",
   "execution_count": null,
   "metadata": {},
   "outputs": [],
   "source": [
    "def bernoulli(prob):\n",
    "    \"\"\"\n",
    "    Returns a random variate that takes value True with probability `prob` and False with probability `1-prob`\n",
    "    \"\"\"\n",
    "    return uniform(0, 1) < prob"
   ]
  },
  {
   "cell_type": "markdown",
   "metadata": {},
   "source": [
    "### The main `Student` agent"
   ]
  },
  {
   "cell_type": "code",
   "execution_count": null,
   "metadata": {},
   "outputs": [],
   "source": [
    "def generate_infectious_time():\n",
    "    return round(uniform(7,10))\n",
    "\n",
    "class State(Enum):\n",
    "    HEALTHY = 1 # also called susceptible\n",
    "    INFECTIOUS = 2\n",
    "    IMMUNE = 3 # also called recovered\n",
    "\n",
    "class StudentAgent:\n",
    "    def __init__(self):\n",
    "        # initially we are healthy\n",
    "        self.state = State.HEALTHY\n",
    "        # whether the agent has been infected today, and we should mark\n",
    "        # them as infected when next advancing the disease\n",
    "        self._infected = False\n",
    "\n",
    "    def simulate_disease(self, day):\n",
    "        \"\"\"\n",
    "        Simulate the course of disease for this agent\n",
    "        \"\"\"\n",
    "        if self.state == State.HEALTHY:\n",
    "            if self._infected:\n",
    "                # we're infected\n",
    "                self.state = State.INFECTIOUS\n",
    "                self.infectious_end = day + generate_infectious_time()\n",
    "            else:\n",
    "                # do nothing if we're healthy and not infected\n",
    "                pass\n",
    "        elif self.state == State.INFECTIOUS:\n",
    "            if day == self.infectious_end:\n",
    "                # it's the day we stop being infectious and become immune\n",
    "                self.state = State.IMMUNE\n",
    "            else:\n",
    "                # we're infectious but no need to change state\n",
    "                pass\n",
    "\n",
    "    def infect(self):\n",
    "        self._infected = True\n",
    "\n",
    "    def infectious(self):\n",
    "        \"\"\"\n",
    "        Whether we're currently infectious or not\n",
    "        \"\"\"\n",
    "        return self.state == State.INFECTIOUS\n",
    "\n",
    "    def have_been_sick(self):\n",
    "        \"\"\"\n",
    "        If this agent has ever been sick or not\n",
    "        \"\"\"\n",
    "        return self.state != State.HEALTHY"
   ]
  },
  {
   "cell_type": "markdown",
   "metadata": {},
   "source": [
    "### Some helper classes and functions"
   ]
  },
  {
   "cell_type": "code",
   "execution_count": null,
   "metadata": {},
   "outputs": [],
   "source": [
    "class Apartment:\n",
    "    \"\"\"\n",
    "    This is just a placeholder for some info with a few convenience functions. It could easily be replaced by a list.\n",
    "    \"\"\"\n",
    "    def __init__(self, capacity):\n",
    "        self.occupants = []\n",
    "        self.capacity = capacity\n",
    "\n",
    "    def add_occupant(self, occupant):\n",
    "        self.occupants.append(occupant)\n",
    "\n",
    "    def is_full(self):\n",
    "        return len(self.occupants) == self.capacity\n",
    "\n",
    "class Days(Enum):\n",
    "    MONDAY = 1\n",
    "    TUESDAY = 2\n",
    "    WEDNESDAY = 3\n",
    "    THURSDAY = 4\n",
    "    FRIDAY = 5\n",
    "    SATURDAY = 6\n",
    "    SUNDAY = 7\n",
    "\n",
    "def randomly_infect(group, prob):\n",
    "    \"\"\"\n",
    "    Given a group of students, randomly infects each pair of students with probability prob\n",
    "    \"\"\"\n",
    "    # for each pair of occupants, they get infected with prob p\n",
    "    for agent1 in group:\n",
    "        for agent2 in group:\n",
    "            # we simulate a possible infection event for each pair where one is infected and the other is not\n",
    "            if agent1.infectious() and not agent2.infectious():\n",
    "                if bernoulli(prob):\n",
    "                    agent2.infect()\n",
    "\n",
    "def assign_to_classrooms(students, number_of_classrooms):\n",
    "    \"\"\"\n",
    "    Reandomly assign students into classrooms with roughly the same number of students in each.\n",
    "    \n",
    "    This is a confusing function, don't worry if you don't understand how it works.\n",
    "    \n",
    "    Returns a list of lists.\n",
    "    \"\"\"\n",
    "    # randomize the order of students\n",
    "    shuffle(students)\n",
    "    # divide into equal chunks\n",
    "    return [students[i::K] for i in range(number_of_classrooms)]"
   ]
  },
  {
   "cell_type": "markdown",
   "metadata": {},
   "source": [
    "### The main simulation loop"
   ]
  },
  {
   "cell_type": "code",
   "execution_count": null,
   "metadata": {},
   "outputs": [],
   "source": [
    "def run_simulation(N, M, B, K, p, q):\n",
    "    # create the students and apartments\n",
    "    students = [StudentAgent() for _ in range(N)]\n",
    "    apartments = [Apartment(capacity=B) for _ in range(M)]\n",
    "\n",
    "    # infect ten student at the start\n",
    "    for i in range(10):\n",
    "        students[i].infect()\n",
    "    \n",
    "    # randomize the students (so those 10 end up in random spots)\n",
    "    shuffle(students)\n",
    "    \n",
    "    # randomly allocate students into apartments\n",
    "    for student in students:\n",
    "        apartments_with_space = [apartment for apartment in apartments if not apartment.is_full()]\n",
    "        \n",
    "        # choose a random apartment\n",
    "        random_apartment = choice(apartments_with_space)\n",
    "        random_apartment.add_occupant(student)\n",
    "    \n",
    "    infected_count = []\n",
    "    sick_count = []\n",
    "    \n",
    "    day_number = 0\n",
    "\n",
    "    # let's run for 12 weeks\n",
    "    for week in range(12):\n",
    "        # and then for each day in the week, we simulate\n",
    "        for day in Days:\n",
    "            # on weekday mornings, we go to class\n",
    "            if day not in [Days.SATURDAY, Days.SUNDAY]:\n",
    "                # randomly assign to classrooms\n",
    "                classrooms = assign_to_classrooms(students, K)\n",
    "    \n",
    "                # within classrooms agents may infect each other\n",
    "                for classroom in classrooms:\n",
    "                    randomly_infect(classroom, q)\n",
    "\n",
    "            for apartment in apartments:\n",
    "                randomly_infect(apartment.occupants, p)\n",
    "\n",
    "            infected_count.append(np.sum([student.infectious() for student in students]))\n",
    "            sick_count.append(np.sum([student.have_been_sick() for student in students]))\n",
    "            \n",
    "            day_number += 1\n",
    "\n",
    "            # advance the state of the simulation for each agent\n",
    "            for agent in students:\n",
    "                agent.simulate_disease(day_number)\n",
    "            \n",
    "    infected_count_daily_change = np.diff(infected_count)\n",
    "    sick_count_daily_change = np.diff(sick_count)\n",
    "    \n",
    "    # total number of agents who ever got sick\n",
    "    total_sick = sick_count[-1]\n",
    "\n",
    "    return total_sick, infected_count, infected_count_daily_change, sick_count, sick_count_daily_change"
   ]
  },
  {
   "cell_type": "markdown",
   "metadata": {},
   "source": [
    "### More helpers (you can ignore these)"
   ]
  },
  {
   "cell_type": "code",
   "execution_count": null,
   "metadata": {},
   "outputs": [],
   "source": [
    "# creates a context manager to time an operation\n",
    "import time\n",
    "from contextlib import contextmanager\n",
    "import matplotlib.pyplot as plt\n",
    "\n",
    "@contextmanager\n",
    "def timer():\n",
    "    start = time.perf_counter()\n",
    "    yield\n",
    "    print(f\"Took {(time.perf_counter() - start)} sec.\")\n",
    "\n",
    "# plots two side-by-side plots\n",
    "def plot_infected_and_change(infected_count, daily_change, title1, title2):\n",
    "    f, (ax1, ax2) = plt.subplots(1, 2, figsize=(18, 6))\n",
    "\n",
    "    ax1.plot(infected_count)\n",
    "    ax1.set_xlabel(\"Day of simulation\")\n",
    "    ax1.set_title(title1)\n",
    "    ax1.set_xticks(np.arange(0, len(infected_count) + 1, 7))\n",
    "\n",
    "    ax2.plot(daily_change)\n",
    "    ax2.set_xlabel(\"Day of simulation\")\n",
    "    ax2.set_title(title2)\n",
    "    ax2.set_xticks(np.arange(0, len(infected_count) + 1, 7))\n",
    "\n",
    "    plt.show()"
   ]
  },
  {
   "cell_type": "markdown",
   "metadata": {},
   "source": [
    "### Define some model parameters"
   ]
  },
  {
   "cell_type": "code",
   "execution_count": null,
   "metadata": {},
   "outputs": [],
   "source": [
    "# number of students\n",
    "N = 1000\n",
    "\n",
    "# number of apartments\n",
    "M = 500\n",
    "\n",
    "# capacity of each apartment\n",
    "B = 3\n",
    "\n",
    "# number of classrooms\n",
    "K = 100\n",
    "\n",
    "# daily probability of getting covid for each infected person when at home\n",
    "p = 0.04\n",
    "\n",
    "# daily probability of getting covid for each infected person when in classroom\n",
    "q = 0.02"
   ]
  },
  {
   "cell_type": "code",
   "execution_count": null,
   "metadata": {
    "scrolled": false
   },
   "outputs": [],
   "source": [
    "with timer():\n",
    "    total_sick, infected_count, infected_count_daily_change, sick_count, sick_count_daily_change = run_simulation(N, M, B, K, p, q)\n",
    "plot_infected_and_change(infected_count, infected_count_daily_change, \"Number of students infectious\", \"Change in number infectious\")\n",
    "plot_infected_and_change(sick_count, sick_count_daily_change, \"Cumulative number of infected students\", \"New infections per day\")"
   ]
  },
  {
   "cell_type": "markdown",
   "metadata": {},
   "source": [
    "We can see that if there is no intervention, even ten students will cause a full outbreak. You can also see the effect of weekends here with the \"steps\" in the graph.\n",
    "\n",
    "Note that this simulation took around half a second to run (on my computer), compared to the much faster DESs. There is an important tradeoff here with model complexity and \n",
    "\n",
    "**Questions**:\n",
    "\n",
    "* Why do only ~600 students ever get infected before the pandemic dies? Why not all 1000?\n",
    "* What happens if we run this again, do we get the same result?\n",
    "* Do our assumptions hold?\n",
    "* Was our model reasonable? What could we tweak?"
   ]
  },
  {
   "cell_type": "markdown",
   "metadata": {},
   "source": [
    "## What if we mandated people to use masks in class?"
   ]
  },
  {
   "cell_type": "markdown",
   "metadata": {},
   "source": [
    "Suppose we set up a rule where people had to use masks in class. This might lead to the probability of infection in class reducing by, say 20%. We can now test out what happens in this scenario:"
   ]
  },
  {
   "cell_type": "code",
   "execution_count": null,
   "metadata": {},
   "outputs": [],
   "source": [
    "new_q = 0.8 * q\n",
    "\n",
    "with timer():\n",
    "    total_sick, infected_count, infected_count_daily_change, sick_count, sick_count_daily_change = run_simulation(N, M, B, K, p, new_q)\n",
    "plot_infected_and_change(infected_count, infected_count_daily_change, \"Number of students infectious\", \"Change in number infectious\")\n",
    "plot_infected_and_change(sick_count, sick_count_daily_change, \"Cumulative number of infected students\", \"New infections per day\")"
   ]
  },
  {
   "cell_type": "markdown",
   "metadata": {},
   "source": [
    "# Hands on: play around with the model and see what happens\n",
    "\n",
    "Study how the current model reacts to changing the input parameters, or choose some tweak to implement to the model and see how the system behaves given that change. Come up with your own or pick one from the list below.\n",
    "\n",
    "## (Easy): Study the variability in the simulation output\n",
    "\n",
    "Run the simulation multiple times (for example with a for loop), and look at how the simulation output changes. Why does the number of people who ever got sick vary so much?\n",
    "\n",
    "## (Easy): Study how the total number of people who got sick changes with the parameters\n",
    "\n",
    "Write a `for` loop to run the simulation mutiple times Plot a graph of the total number of people who got sick at any time as a function of $p$.\n",
    "\n",
    "## (Medium): Implement a \"hybrid\" mode of teaching\n",
    "\n",
    "Set aside a proportion of students, say 20%, and make them not go to class (pretend they attend online and stay home during the day). Does that make a difference.\n",
    "\n",
    "## (Medium): Allocate students to apartments in a better way\n",
    "\n",
    "What if we allocate students to apartments in order to minimize the number of students per apartment, instead of randomly? Does this change the outcome?\n",
    "\n",
    "## (Medium): Allocate students to classes more realistically\n",
    "\n",
    "Currently, students wake up in the morning and get assigned to a new classroom randomly. Make some kind of schedule for each student, and see how it influences the simulation. For example, what if each student just went to the same class each day?\n",
    "\n",
    "## (Hard): Implement social gatherings\n",
    "\n",
    "Implement some kind of logic for students to go out in the evenings and socialize. How does this extra mixing of students change the simulation output?\n",
    "\n",
    "## (Hard): Implement an incubation period\n",
    "\n",
    "When people really get infected with COVID-19, they don't get symptoms immediately, there is a period of time, up to a week when they do not exhibit symptoms. Implement an extra state for agents and see how this influences the simulation output.\n",
    "\n",
    "## (Really hard): Implement testing and quarantine\n",
    "\n",
    "Starting from the above, see if you can implement a testing regime where student are randomly sampled and if they are found to be in incubating state, they are put into quarantine where they won't go to class."
   ]
  },
  {
   "cell_type": "markdown",
   "metadata": {},
   "source": [
    "# Python list comprehensions\n",
    "\n",
    "Hopefully by now you've seen a bit of Python here and there. It's an extremely expressive and powerful language, and mostly you can figure out what's going on by just reading it. There's however a few small piece of syntax I'll highlight to help you see what's going on.\n",
    "\n",
    "### List comprehensions\n",
    "\n",
    "List comprehensions are a shortcut for loops where you want to perform some operation for everything in a list and store their return values in a list. I've used them a fair bit here to simplify code.\n",
    "\n",
    "```py\n",
    "apartments_with_space = [apartment for apartment in apartments if not apartment.is_full()]\n",
    "\n",
    "# is equivalent to this:\n",
    "apartments_with_space = []\n",
    "\n",
    "for apartment in apartments:\n",
    "    if not apartment.is_full():\n",
    "        apartments_with_space.append(apartment)\n",
    "```\n",
    "\n",
    "I also use the underscore (`_`) to denote a variable I don't care about. In a list comprehension, you have to assign the list values to something. So:\n",
    "\n",
    "```py\n",
    "students = [StudentAgent() for _ in range(N)]\n",
    "\n",
    "# is equivalent to\n",
    "students = []\n",
    "\n",
    "for _ in range(N):\n",
    "    students.append(StudentAgent())\n",
    "```\n",
    "\n",
    "You can read more at <https://docs.python.org/3/tutorial/datastructures.html#list-comprehensions>."
   ]
  },
  {
   "cell_type": "code",
   "execution_count": null,
   "metadata": {},
   "outputs": [],
   "source": []
  }
 ],
 "metadata": {
  "kernelspec": {
   "display_name": "Python (jupyter)",
   "language": "python",
   "name": "jupyter"
  },
  "language_info": {
   "codemirror_mode": {
    "name": "ipython",
    "version": 3
   },
   "file_extension": ".py",
   "mimetype": "text/x-python",
   "name": "python",
   "nbconvert_exporter": "python",
   "pygments_lexer": "ipython3",
   "version": "3.9.1"
  }
 },
 "nbformat": 4,
 "nbformat_minor": 4
}
